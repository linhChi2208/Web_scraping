{
 "cells": [
  {
   "cell_type": "code",
   "execution_count": 1,
   "metadata": {},
   "outputs": [],
   "source": [
    "# Importing some necessary packages\n",
    "import requests\n",
    "from bs4 import BeautifulSoup\n",
    "import pandas as pd\n",
    "import numpy as np\n",
    "import matplotlib.pyplot as plt"
   ]
  },
  {
   "cell_type": "code",
   "execution_count": 2,
   "metadata": {},
   "outputs": [],
   "source": [
    "#initiate a list\n",
    "question_list = []"
   ]
  },
  {
   "cell_type": "code",
   "execution_count": 3,
   "metadata": {},
   "outputs": [],
   "source": [
    "def pull_data(tag, page):\n",
    "    #connect to url\n",
    "    source=requests.get(f'https://stackoverflow.com/questions/tagged/{tag}?tab=newest&page={page}&pagesize=50') \n",
    "    #create soup object\n",
    "    soup = BeautifulSoup(source.text,'html.parser')\n",
    "    questions=soup.find_all('div',class_='question-summary')\n",
    "    for item in questions:\n",
    "        question = {\n",
    "            'pull_tag': tag,\n",
    "            'header' : item.find('a',class_='question-hyperlink').text,\n",
    "            'link' :'https://stackoverflow.com'+ item.find('a',class_='question-hyperlink')['href'],\n",
    "            'votes' : int(item.find('span',class_='vote-count-post').text),\n",
    "            'date' : item.find('span',class_='relativetime')['title'],\n",
    "            'num_answer' : item.find('div',class_=[\"status answered\",\"status unanswered\",\"status answered-accepted\"]).text,\n",
    "            'post_tag' : [x.text for x in item.find_all('a',class_='post-tag flex--item')],\n",
    "            'ques_summary' : item.find('div',class_='excerpt').text.strip()\n",
    "        }\n",
    "        question_list.append(question)\n",
    "    return question_list\n",
    "for tag in ['python','pandas','python-3.x','diango','numpy','python-2.7','dataframe','tensorflow','dictionary','regex','beautifulsoup','machine-learning','web-scraping','skit-learn']:\n",
    "    for page in range(100):\n",
    "        quest = pull_data(tag,page)\n"
   ]
  },
  {
   "cell_type": "code",
   "execution_count": 4,
   "metadata": {},
   "outputs": [],
   "source": [
    "# save data into file using pandas\n",
    "df=pd.DataFrame(question_list)\n",
    "# save file to excel\n",
    "# df.to_excel('Stack_Overflow_questions.xlsx')\n",
    "#save file to csv\n",
    "df.to_csv('Stack_Overflow_questions.csv')"
   ]
  },
  {
   "cell_type": "code",
   "execution_count": 5,
   "metadata": {},
   "outputs": [
    {
     "data": {
      "text/plain": [
       "(11950, 8)"
      ]
     },
     "execution_count": 5,
     "metadata": {},
     "output_type": "execute_result"
    }
   ],
   "source": [
    "df.shape"
   ]
  },
  {
   "cell_type": "code",
   "execution_count": null,
   "metadata": {},
   "outputs": [],
   "source": []
  }
 ],
 "metadata": {
  "kernelspec": {
   "display_name": "Python 3",
   "language": "python",
   "name": "python3"
  },
  "language_info": {
   "codemirror_mode": {
    "name": "ipython",
    "version": 3
   },
   "file_extension": ".py",
   "mimetype": "text/x-python",
   "name": "python",
   "nbconvert_exporter": "python",
   "pygments_lexer": "ipython3",
   "version": "3.8.5"
  }
 },
 "nbformat": 4,
 "nbformat_minor": 4
}
